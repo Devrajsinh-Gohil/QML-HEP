{
  "nbformat": 4,
  "nbformat_minor": 0,
  "metadata": {
    "colab": {
      "provenance": [],
      "authorship_tag": "ABX9TyNC/Zn6ThRXChV7KS9ifZfz",
      "include_colab_link": true
    },
    "kernelspec": {
      "name": "python3",
      "display_name": "Python 3"
    },
    "language_info": {
      "name": "python"
    }
  },
  "cells": [
    {
      "cell_type": "markdown",
      "metadata": {
        "id": "view-in-github",
        "colab_type": "text"
      },
      "source": [
        "<a href=\"https://colab.research.google.com/github/Devrajsinh-Gohil/QML-HEP/blob/main/QMLHEP_Task_2.ipynb\" target=\"_parent\"><img src=\"https://colab.research.google.com/assets/colab-badge.svg\" alt=\"Open In Colab\"/></a>"
      ]
    },
    {
      "cell_type": "code",
      "execution_count": 1,
      "metadata": {
        "id": "LFu6dKFYT80I"
      },
      "outputs": [],
      "source": [
        "import numpy as np\n",
        "import tensorflow as tf\n",
        "from tensorflow.keras.layers import Input, Dense, Dropout, Conv1D, MaxPooling1D, Flatten\n",
        "from tensorflow.keras.models import Model\n",
        "from tensorflow.keras.utils import to_categorical\n",
        "from sklearn.model_selection import train_test_split"
      ]
    },
    {
      "cell_type": "code",
      "source": [
        "# Load data from .npz file\n",
        "data = np.load('QG_jets.npz')"
      ],
      "metadata": {
        "id": "wdfmDkg4UQIg"
      },
      "execution_count": 2,
      "outputs": []
    },
    {
      "cell_type": "code",
      "source": [
        "X = data['X']\n",
        "y = data['y']\n",
        "y = to_categorical(y, num_classes=2)"
      ],
      "metadata": {
        "id": "_wmpp5e3enoL"
      },
      "execution_count": 3,
      "outputs": []
    },
    {
      "cell_type": "code",
      "source": [
        "# Split data into train and test sets\n",
        "X_train, X_test, y_train, y_test = train_test_split(X, y, test_size=0.2, random_state=42)"
      ],
      "metadata": {
        "id": "MANsETpIUVLh"
      },
      "execution_count": 4,
      "outputs": []
    },
    {
      "cell_type": "code",
      "source": [
        "# Define PointNet model\n",
        "def pointnet_model(num_points, num_classes):\n",
        "    input_points = Input(shape=(num_points, 4))\n",
        "    x = Conv1D(64, 1, activation='relu')(input_points)\n",
        "    x = Conv1D(128, 1, activation='relu')(x)\n",
        "    x = Conv1D(1024, 1, activation='relu')(x)\n",
        "    x = MaxPooling1D(pool_size=num_points)(x)\n",
        "    x = Flatten()(x)\n",
        "    x = Dense(512, activation='relu')(x)\n",
        "    x = Dropout(0.3)(x)\n",
        "    x = Dense(256, activation='relu')(x)\n",
        "    x = Dropout(0.3)(x)\n",
        "    output = Dense(num_classes, activation='softmax')(x)\n",
        "    model = Model(inputs=input_points, outputs=output)\n",
        "    return model"
      ],
      "metadata": {
        "id": "luJKLbw0UbD5"
      },
      "execution_count": 5,
      "outputs": []
    },
    {
      "cell_type": "code",
      "source": [
        "# Define GCN model\n",
        "def gcn_model(num_points, num_classes):\n",
        "    input_points = Input(shape=(num_points, 4))\n",
        "    x = Conv1D(64, 1, activation='relu')(input_points)\n",
        "    x = Conv1D(64, 1, activation='relu')(x)\n",
        "    x = Conv1D(64, 1, activation='relu')(x)\n",
        "    x = Conv1D(128, 1, activation='relu')(x)\n",
        "    x = Conv1D(1024, 1, activation='relu')(x)\n",
        "    x = MaxPooling1D(pool_size=num_points)(x)\n",
        "    x = Flatten()(x)\n",
        "    x = Dense(512, activation='relu')(x)\n",
        "    x = Dropout(0.3)(x)\n",
        "    x = Dense(256, activation='relu')(x)\n",
        "    x = Dropout(0.3)(x)\n",
        "    output = Dense(num_classes, activation='softmax')(x)\n",
        "    model = Model(inputs=input_points, outputs=output)\n",
        "    return model"
      ],
      "metadata": {
        "id": "gimzdttNUgGz"
      },
      "execution_count": 6,
      "outputs": []
    },
    {
      "cell_type": "code",
      "source": [
        "# Train and evaluate PointNet model\n",
        "pointnet = pointnet_model(X_train.shape[1], 2)\n",
        "pointnet.compile(loss='categorical_crossentropy', optimizer='adam', metrics=['accuracy'])\n",
        "pointnet.fit(X_train, y_train, batch_size=32, epochs=10, validation_data=(X_test, y_test))\n",
        "pointnet_score = pointnet.evaluate(X_test, y_test, verbose=0)\n",
        "print('PointNet Test Loss:', pointnet_score[0])\n",
        "print('PointNet Test Accuracy:', pointnet_score[1])"
      ],
      "metadata": {
        "colab": {
          "base_uri": "https://localhost:8080/"
        },
        "id": "YQbXNyDIUlBp",
        "outputId": "747c0cd4-0fa8-49f9-ca34-9086c6cf33b5"
      },
      "execution_count": 7,
      "outputs": [
        {
          "output_type": "stream",
          "name": "stdout",
          "text": [
            "Epoch 1/10\n",
            "2500/2500 [==============================] - 273s 108ms/step - loss: 0.9240 - accuracy: 0.6864 - val_loss: 0.5488 - val_accuracy: 0.7332\n",
            "Epoch 2/10\n",
            "2500/2500 [==============================] - 272s 109ms/step - loss: 0.5581 - accuracy: 0.7256 - val_loss: 0.5484 - val_accuracy: 0.7326\n",
            "Epoch 3/10\n",
            "2500/2500 [==============================] - 273s 109ms/step - loss: 0.5546 - accuracy: 0.7285 - val_loss: 0.6833 - val_accuracy: 0.6377\n",
            "Epoch 4/10\n",
            "2500/2500 [==============================] - 269s 108ms/step - loss: 0.5515 - accuracy: 0.7310 - val_loss: 0.5370 - val_accuracy: 0.7392\n",
            "Epoch 5/10\n",
            "2500/2500 [==============================] - 270s 108ms/step - loss: 0.5431 - accuracy: 0.7378 - val_loss: 0.5246 - val_accuracy: 0.7441\n",
            "Epoch 6/10\n",
            "2500/2500 [==============================] - 268s 107ms/step - loss: 0.5351 - accuracy: 0.7434 - val_loss: 0.5327 - val_accuracy: 0.7479\n",
            "Epoch 7/10\n",
            "2500/2500 [==============================] - 266s 106ms/step - loss: 0.5314 - accuracy: 0.7457 - val_loss: 0.5189 - val_accuracy: 0.7527\n",
            "Epoch 8/10\n",
            "2500/2500 [==============================] - 268s 107ms/step - loss: 0.5272 - accuracy: 0.7474 - val_loss: 0.5273 - val_accuracy: 0.7496\n",
            "Epoch 9/10\n",
            "2500/2500 [==============================] - 268s 107ms/step - loss: 0.5247 - accuracy: 0.7511 - val_loss: 0.5170 - val_accuracy: 0.7548\n",
            "Epoch 10/10\n",
            "2500/2500 [==============================] - 265s 106ms/step - loss: 0.5232 - accuracy: 0.7516 - val_loss: 0.5255 - val_accuracy: 0.7445\n",
            "PointNet Test Loss: 0.525489091873169\n",
            "PointNet Test Accuracy: 0.7444999814033508\n"
          ]
        }
      ]
    },
    {
      "cell_type": "code",
      "source": [
        "# Train and evaluate GCN model\n",
        "gcn = gcn_model(X_train.shape[1], 2)\n",
        "gcn.compile(loss='categorical_crossentropy', optimizer='adam', metrics=['accuracy'])\n",
        "gcn.fit(X_train, y_train, batch_size=32, epochs=10, validation_data=(X_test, y_test))\n",
        "gcn_score = gcn.evaluate(X_test,y_test, verbose=0)\n",
        "print('GCN Test Loss:', gcn_score[0])\n",
        "print('GCN Test Accuracy:', gcn_score[1])"
      ],
      "metadata": {
        "id": "EXzFaT_man0Y",
        "colab": {
          "base_uri": "https://localhost:8080/"
        },
        "outputId": "cc7e37e1-04ee-4a28-c4ac-e8406a34c1bc"
      },
      "execution_count": 8,
      "outputs": [
        {
          "output_type": "stream",
          "name": "stdout",
          "text": [
            "Epoch 1/10\n",
            "2500/2500 [==============================] - 287s 114ms/step - loss: 0.6486 - accuracy: 0.7094 - val_loss: 0.5402 - val_accuracy: 0.7362\n",
            "Epoch 2/10\n",
            "2500/2500 [==============================] - 281s 112ms/step - loss: 0.5452 - accuracy: 0.7346 - val_loss: 0.5236 - val_accuracy: 0.7436\n",
            "Epoch 3/10\n",
            "2500/2500 [==============================] - 279s 112ms/step - loss: 0.5359 - accuracy: 0.7422 - val_loss: 0.5377 - val_accuracy: 0.7400\n",
            "Epoch 4/10\n",
            "2500/2500 [==============================] - 280s 112ms/step - loss: 0.5315 - accuracy: 0.7461 - val_loss: 0.5286 - val_accuracy: 0.7472\n",
            "Epoch 5/10\n",
            "2500/2500 [==============================] - 282s 113ms/step - loss: 0.5288 - accuracy: 0.7479 - val_loss: 0.5230 - val_accuracy: 0.7582\n",
            "Epoch 6/10\n",
            "2500/2500 [==============================] - 277s 111ms/step - loss: 0.5212 - accuracy: 0.7536 - val_loss: 0.5094 - val_accuracy: 0.7569\n",
            "Epoch 7/10\n",
            "2500/2500 [==============================] - 276s 110ms/step - loss: 0.5179 - accuracy: 0.7545 - val_loss: 0.5208 - val_accuracy: 0.7539\n",
            "Epoch 8/10\n",
            "2500/2500 [==============================] - 277s 111ms/step - loss: 0.5162 - accuracy: 0.7564 - val_loss: 0.5129 - val_accuracy: 0.7635\n",
            "Epoch 9/10\n",
            "2500/2500 [==============================] - 277s 111ms/step - loss: 0.5084 - accuracy: 0.7613 - val_loss: 0.5115 - val_accuracy: 0.7619\n",
            "Epoch 10/10\n",
            "2500/2500 [==============================] - 280s 112ms/step - loss: 0.5068 - accuracy: 0.7608 - val_loss: 0.5026 - val_accuracy: 0.7636\n",
            "GCN Test Loss: 0.5026411414146423\n",
            "GCN Test Accuracy: 0.7635999917984009\n"
          ]
        }
      ]
    }
  ]
}