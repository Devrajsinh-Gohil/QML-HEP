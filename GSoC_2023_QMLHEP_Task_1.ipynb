{
  "nbformat": 4,
  "nbformat_minor": 0,
  "metadata": {
    "colab": {
      "provenance": [],
      "authorship_tag": "ABX9TyOsnLid/iL3VDkrOiCg6Jyi",
      "include_colab_link": true
    },
    "kernelspec": {
      "name": "python3",
      "display_name": "Python 3"
    },
    "language_info": {
      "name": "python"
    },
    "gpuClass": "standard"
  },
  "cells": [
    {
      "cell_type": "markdown",
      "metadata": {
        "id": "view-in-github",
        "colab_type": "text"
      },
      "source": [
        "<a href=\"https://colab.research.google.com/github/Devrajsinh-Gohil/QML-HEP/blob/main/GSoC_2023_QMLHEP_Task_1.ipynb\" target=\"_parent\"><img src=\"https://colab.research.google.com/assets/colab-badge.svg\" alt=\"Open In Colab\"/></a>"
      ]
    },
    {
      "cell_type": "markdown",
      "source": [
        "#Task 1: Quantum Computing Part"
      ],
      "metadata": {
        "id": "sTwFuJApk0wK"
      }
    },
    {
      "cell_type": "code",
      "source": [
        "!pip install --quiet cirq"
      ],
      "metadata": {
        "id": "ZvN7QYSs8Ew7"
      },
      "execution_count": null,
      "outputs": []
    },
    {
      "cell_type": "code",
      "source": [
        "import cirq\n",
        "import numpy as np"
      ],
      "metadata": {
        "id": "2Ywv9NpLaHOV"
      },
      "execution_count": 2,
      "outputs": []
    },
    {
      "cell_type": "code",
      "source": [
        "# initializing circuit\n",
        "circuit = cirq.Circuit()\n",
        "\n",
        "# initializing qubits \n",
        "quBits = cirq.LineQubit.range(5)"
      ],
      "metadata": {
        "id": "foEY_2B0aq1X"
      },
      "execution_count": 3,
      "outputs": []
    },
    {
      "cell_type": "markdown",
      "source": [
        "## 1.1 With 5 qubits Apply Hadamard operation on every qubit \n"
      ],
      "metadata": {
        "id": "Maer6OQCbYMK"
      }
    },
    {
      "cell_type": "code",
      "source": [
        "# Apply Hadamand Gate to all 5 quBits\n",
        "for quBit in quBits:\n",
        "  circuit.append(cirq.H(quBit))\n",
        "\n",
        "print(circuit)"
      ],
      "metadata": {
        "colab": {
          "base_uri": "https://localhost:8080/"
        },
        "id": "hlKuOanvbiH8",
        "outputId": "74953697-7f95-4650-ff95-8ee814668a0a"
      },
      "execution_count": 4,
      "outputs": [
        {
          "output_type": "stream",
          "name": "stdout",
          "text": [
            "0: ───H───\n",
            "\n",
            "1: ───H───\n",
            "\n",
            "2: ───H───\n",
            "\n",
            "3: ───H───\n",
            "\n",
            "4: ───H───\n"
          ]
        }
      ]
    },
    {
      "cell_type": "markdown",
      "source": [
        "## 1.2 Apply CNOT operation on (0, 1), (1,2), (2,3), (3,4)"
      ],
      "metadata": {
        "id": "gHcTay-7d0vh"
      }
    },
    {
      "cell_type": "code",
      "source": [
        "# Applying CNOT gate\n",
        "for i in range(4):\n",
        "  circuit.append(cirq.CNOT(quBits[i], quBits[i+1]))\n",
        "\n",
        "print(circuit)"
      ],
      "metadata": {
        "colab": {
          "base_uri": "https://localhost:8080/"
        },
        "id": "xzcjgJjGd-Yp",
        "outputId": "6c8582cf-20eb-4062-af6e-a061a9dfd118"
      },
      "execution_count": 5,
      "outputs": [
        {
          "output_type": "stream",
          "name": "stdout",
          "text": [
            "0: ───H───@───────────────\n",
            "          │\n",
            "1: ───H───X───@───────────\n",
            "              │\n",
            "2: ───H───────X───@───────\n",
            "                  │\n",
            "3: ───H───────────X───@───\n",
            "                      │\n",
            "4: ───H───────────────X───\n"
          ]
        }
      ]
    },
    {
      "cell_type": "markdown",
      "source": [
        "## 1.3 SWAP (0, 4) "
      ],
      "metadata": {
        "id": "_JxhfKUdfzgR"
      }
    },
    {
      "cell_type": "code",
      "source": [
        "# Applying SWAP to 1st(0) and 5th(4) quBits\n",
        "cirq.SWAP(quBits[0], quBits[4])\n",
        "print(circuit)"
      ],
      "metadata": {
        "colab": {
          "base_uri": "https://localhost:8080/"
        },
        "id": "heHd8TVufSZA",
        "outputId": "e4a57838-4ca7-48de-c570-1c3d5b1a8a16"
      },
      "execution_count": 6,
      "outputs": [
        {
          "output_type": "stream",
          "name": "stdout",
          "text": [
            "0: ───H───@───────────────\n",
            "          │\n",
            "1: ───H───X───@───────────\n",
            "              │\n",
            "2: ───H───────X───@───────\n",
            "                  │\n",
            "3: ───H───────────X───@───\n",
            "                      │\n",
            "4: ───H───────────────X───\n"
          ]
        }
      ]
    },
    {
      "cell_type": "markdown",
      "source": [
        "##1.4  Rotate X with pi/2 on any qubit (I have done on 3rd qubit)"
      ],
      "metadata": {
        "id": "sW29dwoNjpZz"
      }
    },
    {
      "cell_type": "code",
      "source": [
        "# Rotating X on quBit[2]\n",
        "cirq.rx(np.pi / 2).on(quBits[2])"
      ],
      "metadata": {
        "colab": {
          "base_uri": "https://localhost:8080/"
        },
        "id": "V7wlHtkSjWxp",
        "outputId": "aad1f7ac-a403-4d32-845f-aad148d11c1a"
      },
      "execution_count": 7,
      "outputs": [
        {
          "output_type": "execute_result",
          "data": {
            "text/plain": [
              "cirq.Rx(rads=1.5707963267948966).on(cirq.LineQubit(2))"
            ]
          },
          "metadata": {},
          "execution_count": 7
        }
      ]
    },
    {
      "cell_type": "markdown",
      "source": [
        "##1.5 Final Circuit"
      ],
      "metadata": {
        "id": "93M7QOc2kJqH"
      }
    },
    {
      "cell_type": "code",
      "source": [
        "# Final Circuit\n",
        "print(circuit)"
      ],
      "metadata": {
        "colab": {
          "base_uri": "https://localhost:8080/"
        },
        "id": "f3_EGl_8kMkl",
        "outputId": "69db6429-b5d1-4689-c29b-1586f65c74e2"
      },
      "execution_count": 8,
      "outputs": [
        {
          "output_type": "stream",
          "name": "stdout",
          "text": [
            "0: ───H───@───────────────\n",
            "          │\n",
            "1: ───H───X───@───────────\n",
            "              │\n",
            "2: ───H───────X───@───────\n",
            "                  │\n",
            "3: ───H───────────X───@───\n",
            "                      │\n",
            "4: ───H───────────────X───\n"
          ]
        }
      ]
    },
    {
      "cell_type": "markdown",
      "source": [
        "## 2.1 Apply a Hadmard gate to the first qubit"
      ],
      "metadata": {
        "id": "rCIc-jW6_BmF"
      }
    },
    {
      "cell_type": "code",
      "source": [
        "# new quBits\n",
        "quBits = cirq.LineQubit.range(4)\n",
        "circuit = cirq.Circuit()"
      ],
      "metadata": {
        "id": "B-IKdCGk_KL2"
      },
      "execution_count": 19,
      "outputs": []
    },
    {
      "cell_type": "code",
      "source": [
        "# adding hadamard gate to first quBit\n",
        "circuit.append(cirq.H(quBits[0]))\n",
        "print(circuit)"
      ],
      "metadata": {
        "colab": {
          "base_uri": "https://localhost:8080/"
        },
        "id": "_162L7HY_1zY",
        "outputId": "33ca4aba-a1b7-4906-bf15-69484f72ecdd"
      },
      "execution_count": 20,
      "outputs": [
        {
          "output_type": "stream",
          "name": "stdout",
          "text": [
            "0: ───H───\n"
          ]
        }
      ]
    },
    {
      "cell_type": "markdown",
      "source": [
        "## 2.2 rotate the second qubit by pi/3 around X"
      ],
      "metadata": {
        "id": "W4wgcQnyBBAN"
      }
    },
    {
      "cell_type": "code",
      "source": [
        "# rotating second qubit pi/3 around x\n",
        "cirq.rx(np.pi / 3).on(quBits[1])"
      ],
      "metadata": {
        "colab": {
          "base_uri": "https://localhost:8080/"
        },
        "id": "ybwB4xcqBDub",
        "outputId": "915b5826-67aa-4ccb-b6dd-2475b854bd3d"
      },
      "execution_count": 21,
      "outputs": [
        {
          "output_type": "execute_result",
          "data": {
            "text/plain": [
              "cirq.Rx(rads=1.0471975511965976).on(cirq.LineQubit(1))"
            ]
          },
          "metadata": {},
          "execution_count": 21
        }
      ]
    },
    {
      "cell_type": "markdown",
      "source": [
        "## 2.3 Apply Hadamard gate to the third and fourth qubit"
      ],
      "metadata": {
        "id": "RT3cJZ7vBZj8"
      }
    },
    {
      "cell_type": "code",
      "source": [
        "# Applying Hadamard gate to the third and fourth qubit\n",
        "circuit.append(cirq.H(quBits[2]))\n",
        "circuit.append(cirq.H(quBits[3]))\n",
        "\n",
        "print(circuit)"
      ],
      "metadata": {
        "colab": {
          "base_uri": "https://localhost:8080/"
        },
        "id": "Og5KWW1TBRz-",
        "outputId": "7577c1ed-33f7-426b-a0dd-f574ea0d996d"
      },
      "execution_count": 22,
      "outputs": [
        {
          "output_type": "stream",
          "name": "stdout",
          "text": [
            "0: ───H───\n",
            "\n",
            "2: ───H───\n",
            "\n",
            "3: ───H───\n"
          ]
        }
      ]
    },
    {
      "cell_type": "markdown",
      "source": [
        "##2.4 Perform a swap test between the states of the first and second qubit |q1 q2> and the third and fourth qubit |q3 q4>\n"
      ],
      "metadata": {
        "id": "VRMQobY2LBR-"
      }
    },
    {
      "cell_type": "code",
      "source": [
        "# Perform a swap test between q1 and q2, and q3 and q4\n",
        "circuit.append([cirq.CNOT(quBits[1], quBits[0]), cirq.measure(quBits[0], key='result1')])\n",
        "circuit.append([cirq.CNOT(quBits[2], quBits[3]), cirq.CNOT(quBits[1], quBits[2])])\n",
        "circuit.append([cirq.measure(quBits[3], key='result2')])\n",
        "\n",
        "# Print circuit\n",
        "print(circuit)"
      ],
      "metadata": {
        "id": "ZFvUxXI4LHpF",
        "colab": {
          "base_uri": "https://localhost:8080/"
        },
        "outputId": "b8f60b06-9ea2-41e3-93eb-94f05b133ad7"
      },
      "execution_count": 23,
      "outputs": [
        {
          "output_type": "stream",
          "name": "stdout",
          "text": [
            "0: ───H───X───M('result1')───\n",
            "          │\n",
            "1: ───────@───@──────────────\n",
            "              │\n",
            "2: ───H───@───X──────────────\n",
            "          │\n",
            "3: ───H───X───M('result2')───\n"
          ]
        }
      ]
    },
    {
      "cell_type": "code",
      "source": [
        "# Simulation\n",
        "simulator = cirq.Simulator()\n",
        "result = simulator.run(circuit)\n",
        "\n",
        "# Print the result\n",
        "print(result)"
      ],
      "metadata": {
        "colab": {
          "base_uri": "https://localhost:8080/"
        },
        "id": "jvD2WLoTc7gk",
        "outputId": "7dbcba44-500b-4f32-9837-bfb46af1cc81"
      },
      "execution_count": 27,
      "outputs": [
        {
          "output_type": "stream",
          "name": "stdout",
          "text": [
            "result1=1\n",
            "result2=0\n"
          ]
        }
      ]
    }
  ]
}