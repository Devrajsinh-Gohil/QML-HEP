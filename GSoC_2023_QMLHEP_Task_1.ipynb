{
  "nbformat": 4,
  "nbformat_minor": 0,
  "metadata": {
    "colab": {
      "provenance": [],
      "authorship_tag": "ABX9TyPI27zYt2IidyDWF2cZ8ACN",
      "include_colab_link": true
    },
    "kernelspec": {
      "name": "python3",
      "display_name": "Python 3"
    },
    "language_info": {
      "name": "python"
    },
    "accelerator": "GPU",
    "gpuClass": "standard"
  },
  "cells": [
    {
      "cell_type": "markdown",
      "metadata": {
        "id": "view-in-github",
        "colab_type": "text"
      },
      "source": [
        "<a href=\"https://colab.research.google.com/github/Devrajsinh-Gohil/QML-HEP/blob/main/GSoC_2023_QMLHEP_Task_1.ipynb\" target=\"_parent\"><img src=\"https://colab.research.google.com/assets/colab-badge.svg\" alt=\"Open In Colab\"/></a>"
      ]
    },
    {
      "cell_type": "markdown",
      "source": [
        "#Task 1: Quantum Computing Part"
      ],
      "metadata": {
        "id": "sTwFuJApk0wK"
      }
    },
    {
      "cell_type": "code",
      "source": [
        "!pip install --quiet cirq"
      ],
      "metadata": {
        "id": "ZvN7QYSs8Ew7"
      },
      "execution_count": null,
      "outputs": []
    },
    {
      "cell_type": "code",
      "source": [
        "import cirq\n",
        "import numpy as np"
      ],
      "metadata": {
        "id": "2Ywv9NpLaHOV"
      },
      "execution_count": null,
      "outputs": []
    },
    {
      "cell_type": "code",
      "source": [
        "# initializing circuit\n",
        "circuit = cirq.Circuit()\n",
        "\n",
        "# initializing qubits \n",
        "quBits = cirq.LineQubit.range(5)"
      ],
      "metadata": {
        "id": "foEY_2B0aq1X"
      },
      "execution_count": null,
      "outputs": []
    },
    {
      "cell_type": "markdown",
      "source": [
        "## 1.1 With 5 qubits Apply Hadamard operation on every qubit \n"
      ],
      "metadata": {
        "id": "Maer6OQCbYMK"
      }
    },
    {
      "cell_type": "code",
      "source": [
        "# Apply Hadamand Gate to all 5 quBits\n",
        "for quBit in quBits:\n",
        "  circuit.append(cirq.H(quBit))\n",
        "\n",
        "print(circuit)"
      ],
      "metadata": {
        "colab": {
          "base_uri": "https://localhost:8080/"
        },
        "id": "hlKuOanvbiH8",
        "outputId": "84677be5-88d4-436b-e7a2-08fc75820538"
      },
      "execution_count": null,
      "outputs": [
        {
          "output_type": "stream",
          "name": "stdout",
          "text": [
            "0: ───H───\n",
            "\n",
            "1: ───H───\n",
            "\n",
            "2: ───H───\n",
            "\n",
            "3: ───H───\n",
            "\n",
            "4: ───H───\n"
          ]
        }
      ]
    },
    {
      "cell_type": "markdown",
      "source": [
        "## 1.2 Apply CNOT operation on (0, 1), (1,2), (2,3), (3,4)"
      ],
      "metadata": {
        "id": "gHcTay-7d0vh"
      }
    },
    {
      "cell_type": "code",
      "source": [
        "# Applying CNOT gate\n",
        "for i in range(4):\n",
        "  circuit.append(cirq.CNOT(quBits[i], quBits[i+1]))\n",
        "\n",
        "print(circuit)"
      ],
      "metadata": {
        "colab": {
          "base_uri": "https://localhost:8080/"
        },
        "id": "xzcjgJjGd-Yp",
        "outputId": "aae3ec79-3012-4109-c90f-8e33fa55cda9"
      },
      "execution_count": null,
      "outputs": [
        {
          "output_type": "stream",
          "name": "stdout",
          "text": [
            "0: ───H───@───────────────\n",
            "          │\n",
            "1: ───H───X───@───────────\n",
            "              │\n",
            "2: ───H───────X───@───────\n",
            "                  │\n",
            "3: ───H───────────X───@───\n",
            "                      │\n",
            "4: ───H───────────────X───\n"
          ]
        }
      ]
    },
    {
      "cell_type": "markdown",
      "source": [
        "## 1.3 SWAP (0, 4) "
      ],
      "metadata": {
        "id": "_JxhfKUdfzgR"
      }
    },
    {
      "cell_type": "code",
      "source": [
        "# Applying SWAP to 1st(0) and 5th(4) quBits\n",
        "cirq.SWAP(quBits[0], quBits[4])\n",
        "print(circuit)"
      ],
      "metadata": {
        "colab": {
          "base_uri": "https://localhost:8080/"
        },
        "id": "heHd8TVufSZA",
        "outputId": "dc7ccd9d-37cf-481b-e3e2-b16f66b35424"
      },
      "execution_count": null,
      "outputs": [
        {
          "output_type": "stream",
          "name": "stdout",
          "text": [
            "0: ───H───@───────────────\n",
            "          │\n",
            "1: ───H───X───@───────────\n",
            "              │\n",
            "2: ───H───────X───@───────\n",
            "                  │\n",
            "3: ───H───────────X───@───\n",
            "                      │\n",
            "4: ───H───────────────X───\n"
          ]
        }
      ]
    },
    {
      "cell_type": "markdown",
      "source": [
        "##1.4  Rotate X with pi/2 on any qubit (I have done on 3rd qubit)"
      ],
      "metadata": {
        "id": "sW29dwoNjpZz"
      }
    },
    {
      "cell_type": "code",
      "source": [
        "# Rotating X on quBit[2]\n",
        "cirq.rx(np.pi / 2).on(quBits[2])"
      ],
      "metadata": {
        "colab": {
          "base_uri": "https://localhost:8080/"
        },
        "id": "V7wlHtkSjWxp",
        "outputId": "5edac381-9465-4cfd-b706-b7a8fbf3a44a"
      },
      "execution_count": null,
      "outputs": [
        {
          "output_type": "execute_result",
          "data": {
            "text/plain": [
              "cirq.Rx(rads=1.5707963267948966).on(cirq.LineQubit(2))"
            ]
          },
          "metadata": {},
          "execution_count": 10
        }
      ]
    },
    {
      "cell_type": "markdown",
      "source": [
        "##1.5 Final Circuit"
      ],
      "metadata": {
        "id": "93M7QOc2kJqH"
      }
    },
    {
      "cell_type": "code",
      "source": [
        "# Final Circuit\n",
        "print(circuit)"
      ],
      "metadata": {
        "colab": {
          "base_uri": "https://localhost:8080/"
        },
        "id": "f3_EGl_8kMkl",
        "outputId": "92a0e039-b932-4bda-db55-f1060d8a5485"
      },
      "execution_count": null,
      "outputs": [
        {
          "output_type": "stream",
          "name": "stdout",
          "text": [
            "0: ───H───@───────────────\n",
            "          │\n",
            "1: ───H───X───@───────────\n",
            "              │\n",
            "2: ───H───────X───@───────\n",
            "                  │\n",
            "3: ───H───────────X───@───\n",
            "                      │\n",
            "4: ───H───────────────X───\n"
          ]
        }
      ]
    }
  ]
}